{
 "cells": [
  {
   "cell_type": "code",
   "execution_count": 1,
   "id": "1b85dfa4",
   "metadata": {},
   "outputs": [],
   "source": []
  },
  {
   "cell_type": "code",
   "execution_count": 2,
   "id": "2e219c30",
   "metadata": {},
   "outputs": [],
   "source": []
  },
  {
   "cell_type": "code",
   "execution_count": null,
   "id": "8197bed1",
   "metadata": {},
   "outputs": [],
   "source": []
  },
  {
   "cell_type": "markdown",
   "id": "ca15217e",
   "metadata": {},
   "source": [
    "# 1. Import required libraries and read the provided dataset (youtube_dislike_dataset.csv) and retrieve top 5 and bottom 5 records"
   ]
  },
  {
   "cell_type": "code",
   "execution_count": null,
   "id": "0c612ebd",
   "metadata": {},
   "outputs": [],
   "source": []
  },
  {
   "cell_type": "code",
   "execution_count": 47,
   "id": "16a22cb9",
   "metadata": {},
   "outputs": [],
   "source": [
    "import pandas as pd \n",
    "import numpy as np \n",
    "import seaborn as sns\n",
    "import matplotlib.pyplot as plt"
   ]
  },
  {
   "cell_type": "code",
   "execution_count": 48,
   "id": "2e16566f",
   "metadata": {},
   "outputs": [],
   "source": [
    "df=pd.read_csv(r\"C:\\Users\\ADMIN\\Downloads\\archive (4)/youtube_dislike_dataset.csv\")"
   ]
  },
  {
   "cell_type": "code",
   "execution_count": 9,
   "id": "c8e1def8",
   "metadata": {},
   "outputs": [
    {
     "data": {
      "text/html": [
       "<div>\n",
       "<style scoped>\n",
       "    .dataframe tbody tr th:only-of-type {\n",
       "        vertical-align: middle;\n",
       "    }\n",
       "\n",
       "    .dataframe tbody tr th {\n",
       "        vertical-align: top;\n",
       "    }\n",
       "\n",
       "    .dataframe thead th {\n",
       "        text-align: right;\n",
       "    }\n",
       "</style>\n",
       "<table border=\"1\" class=\"dataframe\">\n",
       "  <thead>\n",
       "    <tr style=\"text-align: right;\">\n",
       "      <th></th>\n",
       "      <th>video_id</th>\n",
       "      <th>title</th>\n",
       "      <th>channel_id</th>\n",
       "      <th>channel_title</th>\n",
       "      <th>published_at</th>\n",
       "      <th>view_count</th>\n",
       "      <th>likes</th>\n",
       "      <th>dislikes</th>\n",
       "      <th>comment_count</th>\n",
       "      <th>tags</th>\n",
       "      <th>description</th>\n",
       "      <th>comments</th>\n",
       "    </tr>\n",
       "  </thead>\n",
       "  <tbody>\n",
       "    <tr>\n",
       "      <th>0</th>\n",
       "      <td>--0bCF-iK2E</td>\n",
       "      <td>Jadon Sancho  Magical Skills &amp; Goals</td>\n",
       "      <td>UC6UL29enLNe4mqwTfAyeNuw</td>\n",
       "      <td>Bundesliga</td>\n",
       "      <td>2021-07-01 10:00:00</td>\n",
       "      <td>1048888</td>\n",
       "      <td>19515</td>\n",
       "      <td>226</td>\n",
       "      <td>1319</td>\n",
       "      <td>football soccer ftbol alemn Bundesliga season ...</td>\n",
       "      <td>Enjoy the best skills and goals from Jadon San...</td>\n",
       "      <td>Respect to Dortmund fans,must be sad losing hi...</td>\n",
       "    </tr>\n",
       "    <tr>\n",
       "      <th>1</th>\n",
       "      <td>--14w5SOEUs</td>\n",
       "      <td>Migos - Avalanche (Official Video)</td>\n",
       "      <td>UCGIelM2Dj3zza3xyV3pL3WQ</td>\n",
       "      <td>MigosVEVO</td>\n",
       "      <td>2021-06-10 16:00:00</td>\n",
       "      <td>15352638</td>\n",
       "      <td>359277</td>\n",
       "      <td>7479</td>\n",
       "      <td>18729</td>\n",
       "      <td>Migos Avalanche Quality Control Music/Motown R...</td>\n",
       "      <td>Watch the the official video for Migos - \"Aval...</td>\n",
       "      <td>Migos just makes me want to live my live to th...</td>\n",
       "    </tr>\n",
       "    <tr>\n",
       "      <th>2</th>\n",
       "      <td>--40TEbZ9Is</td>\n",
       "      <td>Supporting Actress in a Comedy: 73rd Emmys</td>\n",
       "      <td>UClBKH8yZRcM4AsRjDVEdjMg</td>\n",
       "      <td>Television Academy</td>\n",
       "      <td>2021-09-20 01:03:32</td>\n",
       "      <td>925281</td>\n",
       "      <td>11212</td>\n",
       "      <td>401</td>\n",
       "      <td>831</td>\n",
       "      <td></td>\n",
       "      <td>Hannah Waddingham wins the Emmy for Supporting...</td>\n",
       "      <td>Hannah's energy bursts through any screen. Wel...</td>\n",
       "    </tr>\n",
       "    <tr>\n",
       "      <th>3</th>\n",
       "      <td>--4tfbSyYDE</td>\n",
       "      <td>JO1'YOUNG (JO1 ver.)' PERFORMANCE VIDEO</td>\n",
       "      <td>UCsmXiDP8S40uBeJYxvyulmA</td>\n",
       "      <td>JO1</td>\n",
       "      <td>2021-03-03 10:00:17</td>\n",
       "      <td>2641597</td>\n",
       "      <td>39131</td>\n",
       "      <td>441</td>\n",
       "      <td>3745</td>\n",
       "      <td>PRODUCE101JAPAN              JO1   TheSTAR STA...</td>\n",
       "      <td>JO1'YOUNG (JO1 ver.)' PERFORMANCE VIDEO\\n\\n---...</td>\n",
       "      <td>youngVer&gt;&lt;  REN is really PERFECT. It's not ju...</td>\n",
       "    </tr>\n",
       "    <tr>\n",
       "      <th>4</th>\n",
       "      <td>--DKkzWVh-E</td>\n",
       "      <td>Why Retaining Walls Collapse</td>\n",
       "      <td>UCMOqf8ab-42UUQIdVoKwjlQ</td>\n",
       "      <td>Practical Engineering</td>\n",
       "      <td>2021-12-07 13:00:00</td>\n",
       "      <td>715724</td>\n",
       "      <td>32887</td>\n",
       "      <td>367</td>\n",
       "      <td>1067</td>\n",
       "      <td>retaining wall New Jersey highway Direct Conne...</td>\n",
       "      <td>One of the most important (and innocuous) part...</td>\n",
       "      <td>Keep up with all my projects here: https://pr...</td>\n",
       "    </tr>\n",
       "  </tbody>\n",
       "</table>\n",
       "</div>"
      ],
      "text/plain": [
       "      video_id                                       title  \\\n",
       "0  --0bCF-iK2E        Jadon Sancho  Magical Skills & Goals   \n",
       "1  --14w5SOEUs          Migos - Avalanche (Official Video)   \n",
       "2  --40TEbZ9Is  Supporting Actress in a Comedy: 73rd Emmys   \n",
       "3  --4tfbSyYDE     JO1'YOUNG (JO1 ver.)' PERFORMANCE VIDEO   \n",
       "4  --DKkzWVh-E                Why Retaining Walls Collapse   \n",
       "\n",
       "                 channel_id          channel_title         published_at  \\\n",
       "0  UC6UL29enLNe4mqwTfAyeNuw             Bundesliga  2021-07-01 10:00:00   \n",
       "1  UCGIelM2Dj3zza3xyV3pL3WQ              MigosVEVO  2021-06-10 16:00:00   \n",
       "2  UClBKH8yZRcM4AsRjDVEdjMg     Television Academy  2021-09-20 01:03:32   \n",
       "3  UCsmXiDP8S40uBeJYxvyulmA                    JO1  2021-03-03 10:00:17   \n",
       "4  UCMOqf8ab-42UUQIdVoKwjlQ  Practical Engineering  2021-12-07 13:00:00   \n",
       "\n",
       "   view_count   likes  dislikes  comment_count  \\\n",
       "0     1048888   19515       226           1319   \n",
       "1    15352638  359277      7479          18729   \n",
       "2      925281   11212       401            831   \n",
       "3     2641597   39131       441           3745   \n",
       "4      715724   32887       367           1067   \n",
       "\n",
       "                                                tags  \\\n",
       "0  football soccer ftbol alemn Bundesliga season ...   \n",
       "1  Migos Avalanche Quality Control Music/Motown R...   \n",
       "2                                                      \n",
       "3  PRODUCE101JAPAN              JO1   TheSTAR STA...   \n",
       "4  retaining wall New Jersey highway Direct Conne...   \n",
       "\n",
       "                                         description  \\\n",
       "0  Enjoy the best skills and goals from Jadon San...   \n",
       "1  Watch the the official video for Migos - \"Aval...   \n",
       "2  Hannah Waddingham wins the Emmy for Supporting...   \n",
       "3  JO1'YOUNG (JO1 ver.)' PERFORMANCE VIDEO\\n\\n---...   \n",
       "4  One of the most important (and innocuous) part...   \n",
       "\n",
       "                                            comments  \n",
       "0  Respect to Dortmund fans,must be sad losing hi...  \n",
       "1  Migos just makes me want to live my live to th...  \n",
       "2  Hannah's energy bursts through any screen. Wel...  \n",
       "3  youngVer><  REN is really PERFECT. It's not ju...  \n",
       "4   Keep up with all my projects here: https://pr...  "
      ]
     },
     "execution_count": 9,
     "metadata": {},
     "output_type": "execute_result"
    }
   ],
   "source": [
    "df.head(5)"
   ]
  },
  {
   "cell_type": "code",
   "execution_count": 10,
   "id": "77e4ecf1",
   "metadata": {},
   "outputs": [
    {
     "data": {
      "text/html": [
       "<div>\n",
       "<style scoped>\n",
       "    .dataframe tbody tr th:only-of-type {\n",
       "        vertical-align: middle;\n",
       "    }\n",
       "\n",
       "    .dataframe tbody tr th {\n",
       "        vertical-align: top;\n",
       "    }\n",
       "\n",
       "    .dataframe thead th {\n",
       "        text-align: right;\n",
       "    }\n",
       "</style>\n",
       "<table border=\"1\" class=\"dataframe\">\n",
       "  <thead>\n",
       "    <tr style=\"text-align: right;\">\n",
       "      <th></th>\n",
       "      <th>video_id</th>\n",
       "      <th>title</th>\n",
       "      <th>channel_id</th>\n",
       "      <th>channel_title</th>\n",
       "      <th>published_at</th>\n",
       "      <th>view_count</th>\n",
       "      <th>likes</th>\n",
       "      <th>dislikes</th>\n",
       "      <th>comment_count</th>\n",
       "      <th>tags</th>\n",
       "      <th>description</th>\n",
       "      <th>comments</th>\n",
       "    </tr>\n",
       "  </thead>\n",
       "  <tbody>\n",
       "    <tr>\n",
       "      <th>37417</th>\n",
       "      <td>zzd4ydafGR0</td>\n",
       "      <td>Lil Tjay - Calling My Phone (feat. 6LACK) [Off...</td>\n",
       "      <td>UCEB4a5o_6KfjxHwNMnmj54Q</td>\n",
       "      <td>Lil Tjay</td>\n",
       "      <td>2021-02-12 05:03:49</td>\n",
       "      <td>120408275</td>\n",
       "      <td>2180780</td>\n",
       "      <td>35871</td>\n",
       "      <td>81360</td>\n",
       "      <td>Lil Tjay Steady Calling My Phone Calling My Ph...</td>\n",
       "      <td>Official video for \"Calling My Phone\" by Lil T...</td>\n",
       "      <td>'DESTINED 2 WIN' OUT NOW !! https://liltjay.ln...</td>\n",
       "    </tr>\n",
       "    <tr>\n",
       "      <th>37418</th>\n",
       "      <td>zziBybeSAtw</td>\n",
       "      <td>PELICANS at LAKERS | FULL GAME HIGHLIGHTS | Ja...</td>\n",
       "      <td>UCWJ2lWNubArHWmf3FIHbfcQ</td>\n",
       "      <td>NBA</td>\n",
       "      <td>2021-01-16 05:39:05</td>\n",
       "      <td>2841917</td>\n",
       "      <td>20759</td>\n",
       "      <td>1049</td>\n",
       "      <td>2624</td>\n",
       "      <td>NBA G League Basketball game-0022000187 Lakers...</td>\n",
       "      <td>PELICANS at LAKERS | FULL GAME HIGHLIGHTS | Ja...</td>\n",
       "      <td>Montrezl Harrell is going crazy with the rebou...</td>\n",
       "    </tr>\n",
       "    <tr>\n",
       "      <th>37419</th>\n",
       "      <td>zzk09ESX7e0</td>\n",
       "      <td>[MV]  (MAMAMOO) - Where Are We Now</td>\n",
       "      <td>UCuhAUMLzJxlP1W7mEk0_6lA</td>\n",
       "      <td>MAMAMOO</td>\n",
       "      <td>2021-06-02 09:00:10</td>\n",
       "      <td>13346678</td>\n",
       "      <td>720854</td>\n",
       "      <td>4426</td>\n",
       "      <td>90616</td>\n",
       "      <td>MAMAMOO  WAW  WAW MAMAMOO WAW Where Are We Now...</td>\n",
       "      <td>[MV]  (MAMAMOO) - Where Are We Now\\n\\nInstagra...</td>\n",
       "      <td>I honestly do not know why this song hit so ha...</td>\n",
       "    </tr>\n",
       "    <tr>\n",
       "      <th>37420</th>\n",
       "      <td>zzmQEb0Em5I</td>\n",
       "      <td>FELLIPE ESCUDERO- Master Podcast  #12</td>\n",
       "      <td>UC8NjnNWMsRqq11NYvHAQb1g</td>\n",
       "      <td>Master Podcast</td>\n",
       "      <td>2020-10-20 20:59:30</td>\n",
       "      <td>252057</td>\n",
       "      <td>19198</td>\n",
       "      <td>1234</td>\n",
       "      <td>1471</td>\n",
       "      <td>master masterpodcast lord lord vinheteiro z z ...</td>\n",
       "      <td>DOCTOR HAIR\\nhttps://www.thedoctorhair.com/?fb...</td>\n",
       "      <td>Foi um prazer passar esta tarde com vocs debat...</td>\n",
       "    </tr>\n",
       "    <tr>\n",
       "      <th>37421</th>\n",
       "      <td>zzxPZwaA-8w</td>\n",
       "      <td>Gareth Bale brace secures dramatic comeback on...</td>\n",
       "      <td>UCEg25rdRZXg32iwai6N6l0w</td>\n",
       "      <td>Tottenham Hotspur</td>\n",
       "      <td>2021-05-23 21:00:31</td>\n",
       "      <td>2252090</td>\n",
       "      <td>34063</td>\n",
       "      <td>868</td>\n",
       "      <td>2004</td>\n",
       "      <td>Spurs Tottenham Hotspur   Tottenham Leicester ...</td>\n",
       "      <td>Two minute highlights from Tottenham Hotspur's...</td>\n",
       "      <td>Thank you Kane for everything you have given t...</td>\n",
       "    </tr>\n",
       "  </tbody>\n",
       "</table>\n",
       "</div>"
      ],
      "text/plain": [
       "          video_id                                              title  \\\n",
       "37417  zzd4ydafGR0  Lil Tjay - Calling My Phone (feat. 6LACK) [Off...   \n",
       "37418  zziBybeSAtw  PELICANS at LAKERS | FULL GAME HIGHLIGHTS | Ja...   \n",
       "37419  zzk09ESX7e0                 [MV]  (MAMAMOO) - Where Are We Now   \n",
       "37420  zzmQEb0Em5I              FELLIPE ESCUDERO- Master Podcast  #12   \n",
       "37421  zzxPZwaA-8w  Gareth Bale brace secures dramatic comeback on...   \n",
       "\n",
       "                     channel_id      channel_title         published_at  \\\n",
       "37417  UCEB4a5o_6KfjxHwNMnmj54Q           Lil Tjay  2021-02-12 05:03:49   \n",
       "37418  UCWJ2lWNubArHWmf3FIHbfcQ                NBA  2021-01-16 05:39:05   \n",
       "37419  UCuhAUMLzJxlP1W7mEk0_6lA            MAMAMOO  2021-06-02 09:00:10   \n",
       "37420  UC8NjnNWMsRqq11NYvHAQb1g     Master Podcast  2020-10-20 20:59:30   \n",
       "37421  UCEg25rdRZXg32iwai6N6l0w  Tottenham Hotspur  2021-05-23 21:00:31   \n",
       "\n",
       "       view_count    likes  dislikes  comment_count  \\\n",
       "37417   120408275  2180780     35871          81360   \n",
       "37418     2841917    20759      1049           2624   \n",
       "37419    13346678   720854      4426          90616   \n",
       "37420      252057    19198      1234           1471   \n",
       "37421     2252090    34063       868           2004   \n",
       "\n",
       "                                                    tags  \\\n",
       "37417  Lil Tjay Steady Calling My Phone Calling My Ph...   \n",
       "37418  NBA G League Basketball game-0022000187 Lakers...   \n",
       "37419  MAMAMOO  WAW  WAW MAMAMOO WAW Where Are We Now...   \n",
       "37420  master masterpodcast lord lord vinheteiro z z ...   \n",
       "37421  Spurs Tottenham Hotspur   Tottenham Leicester ...   \n",
       "\n",
       "                                             description  \\\n",
       "37417  Official video for \"Calling My Phone\" by Lil T...   \n",
       "37418  PELICANS at LAKERS | FULL GAME HIGHLIGHTS | Ja...   \n",
       "37419  [MV]  (MAMAMOO) - Where Are We Now\\n\\nInstagra...   \n",
       "37420  DOCTOR HAIR\\nhttps://www.thedoctorhair.com/?fb...   \n",
       "37421  Two minute highlights from Tottenham Hotspur's...   \n",
       "\n",
       "                                                comments  \n",
       "37417  'DESTINED 2 WIN' OUT NOW !! https://liltjay.ln...  \n",
       "37418  Montrezl Harrell is going crazy with the rebou...  \n",
       "37419  I honestly do not know why this song hit so ha...  \n",
       "37420  Foi um prazer passar esta tarde com vocs debat...  \n",
       "37421  Thank you Kane for everything you have given t...  "
      ]
     },
     "execution_count": 10,
     "metadata": {},
     "output_type": "execute_result"
    }
   ],
   "source": [
    "df.tail(5)"
   ]
  },
  {
   "cell_type": "code",
   "execution_count": null,
   "id": "706a2869",
   "metadata": {},
   "outputs": [],
   "source": []
  },
  {
   "cell_type": "markdown",
   "id": "bb495daa",
   "metadata": {},
   "source": [
    "# 2. Check the info of the dataframe and write your inferences on data types and shape of the dataset."
   ]
  },
  {
   "cell_type": "code",
   "execution_count": 11,
   "id": "8e386d2f",
   "metadata": {},
   "outputs": [
    {
     "name": "stdout",
     "output_type": "stream",
     "text": [
      "<class 'pandas.core.frame.DataFrame'>\n",
      "RangeIndex: 37422 entries, 0 to 37421\n",
      "Data columns (total 12 columns):\n",
      " #   Column         Non-Null Count  Dtype \n",
      "---  ------         --------------  ----- \n",
      " 0   video_id       37422 non-null  object\n",
      " 1   title          37422 non-null  object\n",
      " 2   channel_id     37422 non-null  object\n",
      " 3   channel_title  37422 non-null  object\n",
      " 4   published_at   37422 non-null  object\n",
      " 5   view_count     37422 non-null  int64 \n",
      " 6   likes          37422 non-null  int64 \n",
      " 7   dislikes       37422 non-null  int64 \n",
      " 8   comment_count  37422 non-null  int64 \n",
      " 9   tags           37422 non-null  object\n",
      " 10  description    37422 non-null  object\n",
      " 11  comments       37264 non-null  object\n",
      "dtypes: int64(4), object(8)\n",
      "memory usage: 3.4+ MB\n"
     ]
    }
   ],
   "source": [
    "df.info()"
   ]
  },
  {
   "cell_type": "code",
   "execution_count": 12,
   "id": "99fa1e24",
   "metadata": {},
   "outputs": [
    {
     "data": {
      "text/plain": [
       "video_id         object\n",
       "title            object\n",
       "channel_id       object\n",
       "channel_title    object\n",
       "published_at     object\n",
       "view_count        int64\n",
       "likes             int64\n",
       "dislikes          int64\n",
       "comment_count     int64\n",
       "tags             object\n",
       "description      object\n",
       "comments         object\n",
       "dtype: object"
      ]
     },
     "execution_count": 12,
     "metadata": {},
     "output_type": "execute_result"
    }
   ],
   "source": [
    "df.dtypes"
   ]
  },
  {
   "cell_type": "code",
   "execution_count": 14,
   "id": "4ea57c8d",
   "metadata": {},
   "outputs": [
    {
     "data": {
      "text/plain": [
       "(37422, 12)"
      ]
     },
     "execution_count": 14,
     "metadata": {},
     "output_type": "execute_result"
    }
   ],
   "source": [
    "df.shape"
   ]
  },
  {
   "cell_type": "code",
   "execution_count": null,
   "id": "9cc6d120",
   "metadata": {},
   "outputs": [],
   "source": [
    "449064"
   ]
  },
  {
   "cell_type": "markdown",
   "id": "2b85380e",
   "metadata": {},
   "source": [
    "# 3. Check for the Percentage of the missing values and drop or impute them."
   ]
  },
  {
   "cell_type": "code",
   "execution_count": 27,
   "id": "4cd9402f",
   "metadata": {},
   "outputs": [
    {
     "name": "stdout",
     "output_type": "stream",
     "text": [
      "video_id         0.0\n",
      "title            0.0\n",
      "channel_id       0.0\n",
      "channel_title    0.0\n",
      "published_at     0.0\n",
      "view_count       0.0\n",
      "likes            0.0\n",
      "dislikes         0.0\n",
      "comment_count    0.0\n",
      "tags             0.0\n",
      "description      0.0\n",
      "comments         0.0\n",
      "dtype: float64\n"
     ]
    }
   ],
   "source": [
    "missing_percentage = (df.isnull().sum() / len(df)) * 100\n",
    "print(missing_percentage)"
   ]
  },
  {
   "cell_type": "code",
   "execution_count": 26,
   "id": "10df6d1a",
   "metadata": {},
   "outputs": [],
   "source": [
    "df.dropna(subset=[\"comments\"],inplace=True)"
   ]
  },
  {
   "cell_type": "code",
   "execution_count": null,
   "id": "f705052f",
   "metadata": {},
   "outputs": [],
   "source": []
  },
  {
   "cell_type": "markdown",
   "id": "ca20b7a8",
   "metadata": {},
   "source": [
    "# 4. Check the statistical summary of both numerical and categorical columns and write your inferences."
   ]
  },
  {
   "cell_type": "code",
   "execution_count": 49,
   "id": "61ef9c36",
   "metadata": {},
   "outputs": [
    {
     "data": {
      "text/html": [
       "<div>\n",
       "<style scoped>\n",
       "    .dataframe tbody tr th:only-of-type {\n",
       "        vertical-align: middle;\n",
       "    }\n",
       "\n",
       "    .dataframe tbody tr th {\n",
       "        vertical-align: top;\n",
       "    }\n",
       "\n",
       "    .dataframe thead th {\n",
       "        text-align: right;\n",
       "    }\n",
       "</style>\n",
       "<table border=\"1\" class=\"dataframe\">\n",
       "  <thead>\n",
       "    <tr style=\"text-align: right;\">\n",
       "      <th></th>\n",
       "      <th>video_id</th>\n",
       "      <th>title</th>\n",
       "      <th>channel_id</th>\n",
       "      <th>channel_title</th>\n",
       "      <th>published_at</th>\n",
       "      <th>view_count</th>\n",
       "      <th>likes</th>\n",
       "      <th>dislikes</th>\n",
       "      <th>comment_count</th>\n",
       "      <th>tags</th>\n",
       "      <th>description</th>\n",
       "      <th>comments</th>\n",
       "    </tr>\n",
       "  </thead>\n",
       "  <tbody>\n",
       "    <tr>\n",
       "      <th>count</th>\n",
       "      <td>37422</td>\n",
       "      <td>37422</td>\n",
       "      <td>37422</td>\n",
       "      <td>37422</td>\n",
       "      <td>37422</td>\n",
       "      <td>3.742200e+04</td>\n",
       "      <td>3.742200e+04</td>\n",
       "      <td>3.742200e+04</td>\n",
       "      <td>3.742200e+04</td>\n",
       "      <td>37422</td>\n",
       "      <td>37422</td>\n",
       "      <td>37264</td>\n",
       "    </tr>\n",
       "    <tr>\n",
       "      <th>unique</th>\n",
       "      <td>37422</td>\n",
       "      <td>37113</td>\n",
       "      <td>10961</td>\n",
       "      <td>10883</td>\n",
       "      <td>36772</td>\n",
       "      <td>NaN</td>\n",
       "      <td>NaN</td>\n",
       "      <td>NaN</td>\n",
       "      <td>NaN</td>\n",
       "      <td>28799</td>\n",
       "      <td>35630</td>\n",
       "      <td>37264</td>\n",
       "    </tr>\n",
       "    <tr>\n",
       "      <th>top</th>\n",
       "      <td>--0bCF-iK2E</td>\n",
       "      <td>www</td>\n",
       "      <td>UCNAf1k0yIjyGu3k9BwAg3lg</td>\n",
       "      <td>Sky Sports Football</td>\n",
       "      <td>2020-10-16 04:00:10</td>\n",
       "      <td>NaN</td>\n",
       "      <td>NaN</td>\n",
       "      <td>NaN</td>\n",
       "      <td>NaN</td>\n",
       "      <td></td>\n",
       "      <td></td>\n",
       "      <td>Respect to Dortmund fans,must be sad losing hi...</td>\n",
       "    </tr>\n",
       "    <tr>\n",
       "      <th>freq</th>\n",
       "      <td>1</td>\n",
       "      <td>21</td>\n",
       "      <td>533</td>\n",
       "      <td>533</td>\n",
       "      <td>6</td>\n",
       "      <td>NaN</td>\n",
       "      <td>NaN</td>\n",
       "      <td>NaN</td>\n",
       "      <td>NaN</td>\n",
       "      <td>3817</td>\n",
       "      <td>589</td>\n",
       "      <td>1</td>\n",
       "    </tr>\n",
       "    <tr>\n",
       "      <th>mean</th>\n",
       "      <td>NaN</td>\n",
       "      <td>NaN</td>\n",
       "      <td>NaN</td>\n",
       "      <td>NaN</td>\n",
       "      <td>NaN</td>\n",
       "      <td>5.697838e+06</td>\n",
       "      <td>1.668147e+05</td>\n",
       "      <td>4.989862e+03</td>\n",
       "      <td>9.924930e+03</td>\n",
       "      <td>NaN</td>\n",
       "      <td>NaN</td>\n",
       "      <td>NaN</td>\n",
       "    </tr>\n",
       "    <tr>\n",
       "      <th>std</th>\n",
       "      <td>NaN</td>\n",
       "      <td>NaN</td>\n",
       "      <td>NaN</td>\n",
       "      <td>NaN</td>\n",
       "      <td>NaN</td>\n",
       "      <td>2.426622e+07</td>\n",
       "      <td>5.375670e+05</td>\n",
       "      <td>3.070824e+04</td>\n",
       "      <td>1.171003e+05</td>\n",
       "      <td>NaN</td>\n",
       "      <td>NaN</td>\n",
       "      <td>NaN</td>\n",
       "    </tr>\n",
       "    <tr>\n",
       "      <th>min</th>\n",
       "      <td>NaN</td>\n",
       "      <td>NaN</td>\n",
       "      <td>NaN</td>\n",
       "      <td>NaN</td>\n",
       "      <td>NaN</td>\n",
       "      <td>2.036800e+04</td>\n",
       "      <td>0.000000e+00</td>\n",
       "      <td>0.000000e+00</td>\n",
       "      <td>0.000000e+00</td>\n",
       "      <td>NaN</td>\n",
       "      <td>NaN</td>\n",
       "      <td>NaN</td>\n",
       "    </tr>\n",
       "    <tr>\n",
       "      <th>25%</th>\n",
       "      <td>NaN</td>\n",
       "      <td>NaN</td>\n",
       "      <td>NaN</td>\n",
       "      <td>NaN</td>\n",
       "      <td>NaN</td>\n",
       "      <td>5.122970e+05</td>\n",
       "      <td>1.323350e+04</td>\n",
       "      <td>2.810000e+02</td>\n",
       "      <td>9.000000e+02</td>\n",
       "      <td>NaN</td>\n",
       "      <td>NaN</td>\n",
       "      <td>NaN</td>\n",
       "    </tr>\n",
       "    <tr>\n",
       "      <th>50%</th>\n",
       "      <td>NaN</td>\n",
       "      <td>NaN</td>\n",
       "      <td>NaN</td>\n",
       "      <td>NaN</td>\n",
       "      <td>NaN</td>\n",
       "      <td>1.319078e+06</td>\n",
       "      <td>4.233050e+04</td>\n",
       "      <td>7.960000e+02</td>\n",
       "      <td>2.328000e+03</td>\n",
       "      <td>NaN</td>\n",
       "      <td>NaN</td>\n",
       "      <td>NaN</td>\n",
       "    </tr>\n",
       "    <tr>\n",
       "      <th>75%</th>\n",
       "      <td>NaN</td>\n",
       "      <td>NaN</td>\n",
       "      <td>NaN</td>\n",
       "      <td>NaN</td>\n",
       "      <td>NaN</td>\n",
       "      <td>3.670231e+06</td>\n",
       "      <td>1.304698e+05</td>\n",
       "      <td>2.461750e+03</td>\n",
       "      <td>6.184000e+03</td>\n",
       "      <td>NaN</td>\n",
       "      <td>NaN</td>\n",
       "      <td>NaN</td>\n",
       "    </tr>\n",
       "    <tr>\n",
       "      <th>max</th>\n",
       "      <td>NaN</td>\n",
       "      <td>NaN</td>\n",
       "      <td>NaN</td>\n",
       "      <td>NaN</td>\n",
       "      <td>NaN</td>\n",
       "      <td>1.322797e+09</td>\n",
       "      <td>3.183768e+07</td>\n",
       "      <td>2.397733e+06</td>\n",
       "      <td>1.607103e+07</td>\n",
       "      <td>NaN</td>\n",
       "      <td>NaN</td>\n",
       "      <td>NaN</td>\n",
       "    </tr>\n",
       "  </tbody>\n",
       "</table>\n",
       "</div>"
      ],
      "text/plain": [
       "           video_id  title                channel_id        channel_title  \\\n",
       "count         37422  37422                     37422                37422   \n",
       "unique        37422  37113                     10961                10883   \n",
       "top     --0bCF-iK2E    www  UCNAf1k0yIjyGu3k9BwAg3lg  Sky Sports Football   \n",
       "freq              1     21                       533                  533   \n",
       "mean            NaN    NaN                       NaN                  NaN   \n",
       "std             NaN    NaN                       NaN                  NaN   \n",
       "min             NaN    NaN                       NaN                  NaN   \n",
       "25%             NaN    NaN                       NaN                  NaN   \n",
       "50%             NaN    NaN                       NaN                  NaN   \n",
       "75%             NaN    NaN                       NaN                  NaN   \n",
       "max             NaN    NaN                       NaN                  NaN   \n",
       "\n",
       "               published_at    view_count         likes      dislikes  \\\n",
       "count                 37422  3.742200e+04  3.742200e+04  3.742200e+04   \n",
       "unique                36772           NaN           NaN           NaN   \n",
       "top     2020-10-16 04:00:10           NaN           NaN           NaN   \n",
       "freq                      6           NaN           NaN           NaN   \n",
       "mean                    NaN  5.697838e+06  1.668147e+05  4.989862e+03   \n",
       "std                     NaN  2.426622e+07  5.375670e+05  3.070824e+04   \n",
       "min                     NaN  2.036800e+04  0.000000e+00  0.000000e+00   \n",
       "25%                     NaN  5.122970e+05  1.323350e+04  2.810000e+02   \n",
       "50%                     NaN  1.319078e+06  4.233050e+04  7.960000e+02   \n",
       "75%                     NaN  3.670231e+06  1.304698e+05  2.461750e+03   \n",
       "max                     NaN  1.322797e+09  3.183768e+07  2.397733e+06   \n",
       "\n",
       "        comment_count   tags description  \\\n",
       "count    3.742200e+04  37422       37422   \n",
       "unique            NaN  28799       35630   \n",
       "top               NaN                      \n",
       "freq              NaN   3817         589   \n",
       "mean     9.924930e+03    NaN         NaN   \n",
       "std      1.171003e+05    NaN         NaN   \n",
       "min      0.000000e+00    NaN         NaN   \n",
       "25%      9.000000e+02    NaN         NaN   \n",
       "50%      2.328000e+03    NaN         NaN   \n",
       "75%      6.184000e+03    NaN         NaN   \n",
       "max      1.607103e+07    NaN         NaN   \n",
       "\n",
       "                                                 comments  \n",
       "count                                               37264  \n",
       "unique                                              37264  \n",
       "top     Respect to Dortmund fans,must be sad losing hi...  \n",
       "freq                                                    1  \n",
       "mean                                                  NaN  \n",
       "std                                                   NaN  \n",
       "min                                                   NaN  \n",
       "25%                                                   NaN  \n",
       "50%                                                   NaN  \n",
       "75%                                                   NaN  \n",
       "max                                                   NaN  "
      ]
     },
     "execution_count": 49,
     "metadata": {},
     "output_type": "execute_result"
    }
   ],
   "source": [
    "df.describe(include=\"all\")"
   ]
  },
  {
   "cell_type": "code",
   "execution_count": null,
   "id": "97c923fa",
   "metadata": {},
   "outputs": [],
   "source": []
  },
  {
   "cell_type": "markdown",
   "id": "83505fed",
   "metadata": {},
   "source": [
    "# 5. Convert datatype of column published_at from object to pandas datetime."
   ]
  },
  {
   "cell_type": "code",
   "execution_count": 12,
   "id": "45533253",
   "metadata": {},
   "outputs": [],
   "source": [
    "df['published_at'] = pd.to_datetime(df['published_at'])"
   ]
  },
  {
   "cell_type": "code",
   "execution_count": null,
   "id": "d1f7ae74",
   "metadata": {},
   "outputs": [],
   "source": []
  },
  {
   "cell_type": "markdown",
   "id": "828af42c",
   "metadata": {},
   "source": [
    "# 6. Create a new column as 'published_month' using the column published_at (display the months only)"
   ]
  },
  {
   "cell_type": "code",
   "execution_count": 9,
   "id": "c818a4d0",
   "metadata": {},
   "outputs": [],
   "source": [
    "df['published_month'] = df['published_at'].dt.month"
   ]
  },
  {
   "cell_type": "code",
   "execution_count": null,
   "id": "a3bb510f",
   "metadata": {},
   "outputs": [],
   "source": []
  },
  {
   "cell_type": "markdown",
   "id": "79970444",
   "metadata": {},
   "source": [
    "# 7. Replace the numbers in the column published_month as names of the months i,e., 1 as 'Jan', 2 as 'Feb' and so on....."
   ]
  },
  {
   "cell_type": "code",
   "execution_count": 10,
   "id": "a25b2a05",
   "metadata": {},
   "outputs": [],
   "source": [
    "df['published_month'].replace([1,2,3,4,5,6,7,8,9,10,11,12],['Jan','Feb','Mar','Apr','May','Jun','Jul','Aug','Sep','Oct','Nov','Dec'],inplace=True)\n"
   ]
  },
  {
   "cell_type": "code",
   "execution_count": 11,
   "id": "291a99cf",
   "metadata": {},
   "outputs": [
    {
     "data": {
      "text/plain": [
       "0        Jul\n",
       "1        Jun\n",
       "2        Sep\n",
       "3        Mar\n",
       "4        Dec\n",
       "        ... \n",
       "37417    Feb\n",
       "37418    Jan\n",
       "37419    Jun\n",
       "37420    Oct\n",
       "37421    May\n",
       "Name: published_month, Length: 37422, dtype: object"
      ]
     },
     "execution_count": 11,
     "metadata": {},
     "output_type": "execute_result"
    }
   ],
   "source": [
    "df[\"published_month\"]"
   ]
  },
  {
   "cell_type": "code",
   "execution_count": null,
   "id": "623ec9b3",
   "metadata": {},
   "outputs": [],
   "source": []
  },
  {
   "cell_type": "markdown",
   "id": "07c8618d",
   "metadata": {},
   "source": [
    "# 8. Find the number of videos published each month and arrange the months in a decreasing order based on the video count."
   ]
  },
  {
   "cell_type": "code",
   "execution_count": 14,
   "id": "cb047408",
   "metadata": {},
   "outputs": [
    {
     "name": "stdout",
     "output_type": "stream",
     "text": [
      "   Month-Year  Video Count\n",
      "0     2021-11         2605\n",
      "1     2020-10         2566\n",
      "2     2020-09         2514\n",
      "3     2021-10         2425\n",
      "4     2021-09         2366\n",
      "5     2021-07         2339\n",
      "6     2021-06         2316\n",
      "7     2021-08         2271\n",
      "8     2021-03         2258\n",
      "9     2020-11         2246\n",
      "10    2020-12         2220\n",
      "11    2021-02         2137\n",
      "12    2021-04         2126\n",
      "13    2021-01         2108\n",
      "14    2021-05         2081\n",
      "15    2020-08         1991\n",
      "16    2021-12          852\n",
      "17    2020-07            1\n"
     ]
    }
   ],
   "source": [
    "df['month_year'] = df['published_at'].dt.strftime('%Y-%m')\n",
    "\n",
    "video_counts = df['month_year'].value_counts().reset_index()\n",
    "video_counts.columns = ['Month-Year', 'Video Count']\n",
    "\n",
    "video_counts = video_counts.sort_values(by='Video Count', ascending=False)\n",
    "\n",
    "print(video_counts)\n"
   ]
  },
  {
   "cell_type": "code",
   "execution_count": null,
   "id": "31d3d311",
   "metadata": {},
   "outputs": [],
   "source": []
  },
  {
   "cell_type": "markdown",
   "id": "13d6914a",
   "metadata": {},
   "source": [
    "# 9. Find the count of unique video_id, channel_id and channel_title."
   ]
  },
  {
   "cell_type": "code",
   "execution_count": 17,
   "id": "d52aa74b",
   "metadata": {},
   "outputs": [
    {
     "name": "stdout",
     "output_type": "stream",
     "text": [
      "Count of Unique video_id: 37422\n",
      "Count of Unique channel_id: 10961\n",
      "Count of Unique channel_title: 10883\n"
     ]
    }
   ],
   "source": [
    "\n",
    "unique_video_id_count = df['video_id'].nunique()\n",
    "unique_channel_id_count = df['channel_id'].nunique()\n",
    "unique_channel_title_count = df['channel_title'].nunique()\n",
    "\n",
    "print(\"Count of Unique video_id:\", unique_video_id_count)\n",
    "print(\"Count of Unique channel_id:\", unique_channel_id_count)\n",
    "print(\"Count of Unique channel_title:\", unique_channel_title_count)\n"
   ]
  },
  {
   "cell_type": "code",
   "execution_count": null,
   "id": "920305ea",
   "metadata": {},
   "outputs": [],
   "source": []
  },
  {
   "cell_type": "markdown",
   "id": "3b411eb6",
   "metadata": {},
   "source": [
    "# 10. Find the top10 channel names having the highest number of videos in the dataset and the bottom10 having lowest number of videos."
   ]
  },
  {
   "cell_type": "code",
   "execution_count": 25,
   "id": "7c779b87",
   "metadata": {},
   "outputs": [
    {
     "name": "stdout",
     "output_type": "stream",
     "text": [
      "Top 10 Channels:\n",
      "         Channel Title  Video Count\n",
      "0  Sky Sports Football          533\n",
      "1     The United Stand          301\n",
      "2             BT Sport          246\n",
      "3                  NBA          209\n",
      "4                  NFL          162\n",
      "5                  WWE          122\n",
      "6         SSSniperWolf           99\n",
      "7              SSundee           98\n",
      "8            FORMULA 1           87\n",
      "9                  NHL           86\n",
      "\n",
      "Bottom 10 Channels:\n",
      "              Channel Title  Video Count\n",
      "7101          IAmEzinmaVEVO            1\n",
      "7109          VisitSeoul TV            1\n",
      "7108        StefflonDonVEVO            1\n",
      "7107      SGV Kannada Media            1\n",
      "7106             KHON2 News            1\n",
      "7105             HikacGames            1\n",
      "7104                Android            1\n",
      "7103     - SONGCHELIN GUIDE            1\n",
      "7102            SpideyLucas            1\n",
      "10882        Master Podcast            1\n"
     ]
    }
   ],
   "source": [
    "channel_video_counts = df['channel_title'].value_counts().reset_index()\n",
    "channel_video_counts.columns = ['Channel Title', 'Video Count']\n",
    "\n",
    "channel_video_counts = channel_video_counts.sort_values(by='Video Count', ascending=False)\n",
    "\n",
    "top_10_channels = channel_video_counts.head(10)\n",
    "\n",
    "bottom_10_channels = channel_video_counts.tail(10)\n",
    "\n",
    "\n",
    "print(\"Top 10 Channels:\")\n",
    "print(top_10_channels)\n",
    "\n",
    "print(\"\\nBottom 10 Channels:\")\n",
    "print(bottom_10_channels)\n"
   ]
  },
  {
   "cell_type": "code",
   "execution_count": null,
   "id": "2071c0c7",
   "metadata": {},
   "outputs": [],
   "source": []
  },
  {
   "cell_type": "markdown",
   "id": "ec96f4c8",
   "metadata": {},
   "source": [
    "# 11. Find the title of the video which has the maximum number of likes and the title of the video having minimum likes and write your inferences."
   ]
  },
  {
   "cell_type": "code",
   "execution_count": 33,
   "id": "b4e5fc66",
   "metadata": {},
   "outputs": [
    {
     "name": "stdout",
     "output_type": "stream",
     "text": [
      "Maximum liked vidio: BTS () 'Dynamite' Official MV\n",
      "Minimum liked vidio: Kim Kardashian's Must-See Moments on \"Saturday Night Live\" | E! News\n"
     ]
    }
   ],
   "source": [
    "max_likes_video = df[df['likes'] == df['likes'].max()]['title'].values[0]\n",
    "\n",
    "min_likes_video = df[df['likes'] == df['likes'].min()]['title'].values[0]\n",
    "\n",
    "print(\"Maximum liked vidio:\", max_likes_video)\n",
    "print(\"Minimum liked vidio:\", min_likes_video)\n"
   ]
  },
  {
   "cell_type": "code",
   "execution_count": null,
   "id": "6357264a",
   "metadata": {},
   "outputs": [],
   "source": []
  },
  {
   "cell_type": "markdown",
   "id": "c6343f21",
   "metadata": {},
   "source": [
    "# 12. Find the title of the video which has the maximum number of dislikes and the title of the video having minimum dislikes and write your inferences."
   ]
  },
  {
   "cell_type": "code",
   "execution_count": 36,
   "id": "e1f61192",
   "metadata": {},
   "outputs": [
    {
     "name": "stdout",
     "output_type": "stream",
     "text": [
      "Maximum disliked vidio: Cuties | Official Trailer | Netflix\n",
      "Minimum disliked vidio: Kim Kardashian's Must-See Moments on \"Saturday Night Live\" | E! News\n"
     ]
    }
   ],
   "source": [
    "max_dislikes_video = df[df['dislikes'] == df['dislikes'].max()]['title'].values[0]\n",
    "\n",
    "min_dislikes_video = df[df['dislikes'] == df['dislikes'].min()]['title'].values[0]\n",
    "\n",
    "print(\"Maximum disliked vidio:\", max_dislikes_video)\n",
    "print(\"Minimum disliked vidio:\", min_dislikes_video)\n"
   ]
  },
  {
   "cell_type": "code",
   "execution_count": null,
   "id": "5d7eea0f",
   "metadata": {},
   "outputs": [],
   "source": []
  },
  {
   "cell_type": "markdown",
   "id": "190b8c3a",
   "metadata": {},
   "source": [
    "# 13. Does the number of views have any effect on how many people disliked the video? Support your answer with a metric and a plot."
   ]
  },
  {
   "cell_type": "code",
   "execution_count": 43,
   "id": "0d68caf6",
   "metadata": {},
   "outputs": [
    {
     "name": "stdout",
     "output_type": "stream",
     "text": [
      "Correlation Coefficient Views vs Dislike Ratio: -0.006693975828597466\n"
     ]
    },
    {
     "data": {
      "image/png": "[encoded data removed]",
      "text/plain": [
       "<Figure size 1000x600 with 1 Axes>"
      ]
     },
     "metadata": {},
     "output_type": "display_data"
    }
   ],
   "source": [
    "df['dislike_ratio'] = df['dislikes'] / df['view_count']\n",
    "\n",
    "plt.figure(figsize=(10, 6))\n",
    "plt.scatter(df['view_count'], df['dislike_ratio'], alpha=0.5)\n",
    "plt.title('Relationship Between Views and Dislike Ratio')\n",
    "plt.xlabel('View Count')\n",
    "plt.ylabel('Dislike Ratio (Dislikes per View)')\n",
    "plt.grid(True)\n",
    "\n",
    "correlation_coefficient = df['view_count'].corr(df['dislike_ratio'])\n",
    "print(\"Correlation Coefficient Views vs Dislike Ratio:\", correlation_coefficient)\n",
    "\n",
    "\n",
    "plt.show()\n"
   ]
  },
  {
   "cell_type": "code",
   "execution_count": null,
   "id": "52008bb0",
   "metadata": {},
   "outputs": [],
   "source": []
  },
  {
   "cell_type": "markdown",
   "id": "57324eb2",
   "metadata": {},
   "source": [
    "# 14. Display all the information about the videos that were published in January, and mention the count of videos that were published in January"
   ]
  },
  {
   "cell_type": "code",
   "execution_count": 45,
   "id": "6ccaf767",
   "metadata": {},
   "outputs": [
    {
     "name": "stdout",
     "output_type": "stream",
     "text": [
      "Videos Published in January:\n",
      "          video_id                                              title  \\\n",
      "27     -2Gwm7QfBnE                                    Q&A With Naisha   \n",
      "48     -4sfXSHSxzA           SURPRISING BRENT WITH HIS TIKTOK CRUSH!!   \n",
      "95     -AJD1Fc5rpQ  WE ARE HAVING A BABY! | finding out i'm pregna...   \n",
      "103    -AuJiwjsmWk              Do Ugly Foods Taste Worse? Taste Test   \n",
      "182    -JhqO2KWr5U                                   Schlatt gets fit   \n",
      "...            ...                                                ...   \n",
      "37300  zmzFL5bG-jc  DEVINE MON PERSONNAGE AVANT AKINATOR ! (c'est ...   \n",
      "37329  zpzjex7qwrA  Lampard Sacked Within Days Rorys Misery | Chel...   \n",
      "37345  zqyv-B6mnBM                 Lil Wayne - Ain't Got Time (Audio)   \n",
      "37383  zwfu1-24T7Q  PRADA Cup Day 1 | Full Race Replay | PRADA Cup...   \n",
      "37418  zziBybeSAtw  PELICANS at LAKERS | FULL GAME HIGHLIGHTS | Ja...   \n",
      "\n",
      "                     channel_id       channel_title        published_at  \\\n",
      "27     UCYwNMbogQFzMccPSuy-pPWg           MianTwins 2021-01-21 00:05:47   \n",
      "48     UCPpATKqmMV-CNRNWYaDUwiA        Alexa Rivera 2021-01-16 21:40:04   \n",
      "95     UCVsTboAhpnuL6j-tDePvNwQ      Tess Christine 2021-01-03 21:53:48   \n",
      "103    UCzpCc5n9hqiVC7HhPwcIKEg  Good Mythical MORE 2021-01-19 11:00:01   \n",
      "182    UCWZp4y1jqBuvLtiyxSs_ZBw             Big guy 2021-01-24 22:50:57   \n",
      "...                         ...                 ...                 ...   \n",
      "37300  UCIlr3byh6wmXgcPx_Tm9Ocw             Piwerre 2021-01-16 16:12:19   \n",
      "37329  UCkD-ZOixI0a9FjIExDsHsbg        The Kick Off 2021-01-03 20:13:49   \n",
      "37345  UCO9zJy7HWrIS3ojB4Lr7Yqw           Lil Wayne 2021-01-21 05:00:10   \n",
      "37383  UCo15ZYO_XDRU9LI30OPtxAg       America's Cup 2021-01-15 04:07:55   \n",
      "37418  UCWJ2lWNubArHWmf3FIHbfcQ                 NBA 2021-01-16 05:39:05   \n",
      "\n",
      "       view_count   likes  dislikes  comment_count  \\\n",
      "27         872372   38626       239            621   \n",
      "48        6504784  262477      5779           7907   \n",
      "95         533084   38965       119           1650   \n",
      "103       1057077   22526       531            773   \n",
      "182       1724965  119431       325           1578   \n",
      "...           ...     ...       ...            ...   \n",
      "37300      670357   54462       832           1249   \n",
      "37329      428646   12060       296           1505   \n",
      "37345     2238244   58925      2365           5539   \n",
      "37383      317382    2008        83            192   \n",
      "37418     2841917   20759      1049           2624   \n",
      "\n",
      "                                                    tags  \\\n",
      "27                                                         \n",
      "48                                                         \n",
      "95                                                         \n",
      "103    gmm good mythical morning rhettandlink rhett a...   \n",
      "182    jschlatt big guy jschlatt highlights schlatt j...   \n",
      "...                                                  ...   \n",
      "37300  Piwerre frere de michou crouton among us devin...   \n",
      "37329  Premier league Chelsea chelsea 1-3 Man City Ch...   \n",
      "37345  lil wayne weezy weezy wednesday wayne carter y...   \n",
      "37383  America's Cup Americas Cup AC36 AC75 Presented...   \n",
      "37418  NBA G League Basketball game-0022000187 Lakers...   \n",
      "\n",
      "                                             description  \\\n",
      "27     Hey Guys!!! this has been the most requested v...   \n",
      "48     He had no idea! Thank you guys so much for wat...   \n",
      "95     I am so happy to tell you that I am pregnant!!...   \n",
      "103    Today, we're doing a blind taste test to deter...   \n",
      "182                    #jschlatt #schlatt #bigguy #short   \n",
      "...                                                  ...   \n",
      "37300   Discord Piwerre : https://discord.gg/QBduPgAA...   \n",
      "37329  The Kick Off watched Manchester City destroy C...   \n",
      "37345  Official audio for Lil Wayne \"Ain't Got Time\",...   \n",
      "37383  The opening day of the PRADA Cup in Auckland, ...   \n",
      "37418  PELICANS at LAKERS | FULL GAME HIGHLIGHTS | Ja...   \n",
      "\n",
      "                                                comments month_year  \\\n",
      "27     I feel like Nate and Aishas personality match ...    2021-01   \n",
      "48     Thank you guys for watching and don't forget t...    2021-01   \n",
      "95     Okay I needed a moment to collect my thoughts ...    2021-01   \n",
      "103    \"there's nothing wrong with it being bent\"\\nI ...    2021-01   \n",
      "182    Schlatt is single handedly wiping out all the ...    2021-01   \n",
      "...                                                  ...        ...   \n",
      "37300  Mdr michou quand c'est pas ses tournage il fou...    2021-01   \n",
      "37329  True Its like a fighter who Geordie But I thou...    2021-01   \n",
      "37345  RIP Juice Wrld, wrote that on two cups, pour o...    2021-01   \n",
      "37383  Incredible how these boats evolve in a short t...    2021-01   \n",
      "37418  Montrezl Harrell is going crazy with the rebou...    2021-01   \n",
      "\n",
      "      published_month  dislike_ratio  \n",
      "27                Jan       0.000274  \n",
      "48                Jan       0.000888  \n",
      "95                Jan       0.000223  \n",
      "103               Jan       0.000502  \n",
      "182               Jan       0.000188  \n",
      "...               ...            ...  \n",
      "37300             Jan       0.001241  \n",
      "37329             Jan       0.000691  \n",
      "37345             Jan       0.001057  \n",
      "37383             Jan       0.000262  \n",
      "37418             Jan       0.000369  \n",
      "\n",
      "[2108 rows x 15 columns]\n"
     ]
    }
   ],
   "source": [
    "january_videos = df[df['published_at'].dt.month == 1]\n",
    "print(\"Videos Published in January:\")\n",
    "print(january_videos)"
   ]
  },
  {
   "cell_type": "code",
   "execution_count": 46,
   "id": "46e66e2e",
   "metadata": {},
   "outputs": [
    {
     "name": "stdout",
     "output_type": "stream",
     "text": [
      "Count of Videos Published in January: 2108\n"
     ]
    }
   ],
   "source": [
    "january_video_count = len(january_videos)\n",
    "print(\"Count of Videos Published in January:\", january_video_count)"
   ]
  },
  {
   "cell_type": "code",
   "execution_count": null,
   "id": "adc83f49",
   "metadata": {},
   "outputs": [],
   "source": []
  }
 ],
 "metadata": {
  "kernelspec": {
   "display_name": "Python 3 (ipykernel)",
   "language": "python",
   "name": "python3"
  },
  "language_info": {
   "codemirror_mode": {
    "name": "ipython",
    "version": 3
   },
   "file_extension": ".py",
   "mimetype": "text/x-python",
   "name": "python",
   "nbconvert_exporter": "python",
   "pygments_lexer": "ipython3",
   "version": "3.10.9"
  }
 },
 "nbformat": 4,
 "nbformat_minor": 5
}
